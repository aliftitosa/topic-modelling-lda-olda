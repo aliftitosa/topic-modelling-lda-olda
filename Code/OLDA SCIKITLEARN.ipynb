{
 "cells": [
  {
   "cell_type": "markdown",
   "metadata": {},
   "source": [
    "# Streaming data"
   ]
  },
  {
   "cell_type": "code",
   "execution_count": null,
   "metadata": {},
   "outputs": [],
   "source": []
  },
  {
   "cell_type": "markdown",
   "metadata": {},
   "source": [
    "## Import Module"
   ]
  },
  {
   "cell_type": "code",
   "execution_count": 25,
   "metadata": {},
   "outputs": [],
   "source": [
    "import json\n",
    "import pandas as pd\n",
    "import nltk\n",
    "from nltk.tokenize import TweetTokenizer as tw_tokenizer\n",
    "from unidecode import unidecode\n",
    "from Sastrawi.StopWordRemover.StopWordRemoverFactory import StopWordRemoverFactory\n",
    "from Sastrawi.Stemmer.StemmerFactory import StemmerFactory\n",
    "from nltk.tag import CRFTagger\n",
    "from spacy.lang.id import Indonesian\n",
    "import taudataNlpTm as tau, itertools, re, pickle, pyLDAvis, pyLDAvis.sklearn, spacy, urllib.request\n",
    "import time, numpy as np, matplotlib.pyplot as plt, networkx as nx, seaborn as sns \n",
    "from tqdm import tqdm\n",
    "from textblob import TextBlob\n",
    "from pprint import pprint\n",
    "\n",
    "\n",
    "#SKLEARN\n",
    "from sklearn.model_selection import GridSearchCV \n",
    "from sklearn.decomposition import LatentDirichletAllocation\n",
    "from sklearn.datasets import make_multilabel_classification\n",
    "from sklearn.feature_extraction.text import CountVectorizer\n",
    "\n",
    "#Visualazation\n",
    "import pyLDAvis\n",
    "import pyLDAvis.gensim_models\n",
    "\n",
    "import warnings\n",
    "warnings.filterwarnings('ignore', category=DeprecationWarning)\n",
    "\n",
    "from datetime import datetime, timedelta"
   ]
  },
  {
   "cell_type": "markdown",
   "metadata": {},
   "source": [
    "## Load Data"
   ]
  },
  {
   "cell_type": "code",
   "execution_count": 13,
   "metadata": {},
   "outputs": [
    {
     "data": {
      "text/plain": [
       "['2021/07/12 20:45:38\\n6. PPKM MakeADish\\n7. D-573\\n8. O.O.O\\n9. Official Teaser\\n10. Pfizer',\n",
       " 'Plis kek ini lagi ppkm anak bayik udahan dulu kek yg ulang tahun wkwk',\n",
       " '@yukheisexc untuk saat ini karena masih masa ppkm yang avail yang masker kak aku🙏🏻🙏🏻',\n",
       " 'pulang kerja jam 8 pas ppkm gini ga enak bgt wkw orang jualan tutup, jalan sepi\\U0001f972\\U0001f972',\n",
       " '😌😌😌😌😌😌😌😌😌😌😌😌',\n",
       " 'GONE GIRL (2014)\\nMyscore: 8.5\\nNOT ON NETFLIX \\n\\nSeneng banget waktu nemu film twist cakep macam ini. Ini sih wajib km nonton pas ppkm. Tentang suami yg diduga menghilangkan nyawa istrinya sendiri. Apa yg sebenarnya terjadi? Siapa pelakunya dan gmn endingnya? Nonton ber2 gih sm doi https://t.co/lzVgfOcjOI',\n",
       " 'libur semester genap tp malah ppkm 😪😪😪',\n",
       " 'Plis no \\U0001f972',\n",
       " 'PERATURAN PPKM &amp; TAAT PERATURAN PEMERINTAH https://t.co/nNZVo0NeVu lewat @YouTube',\n",
       " '20.45 #BeritaSONORA - Terungkap, Pemerintah Ternyata Siapkan Skenario Perpanjangan PPKM Darurat sampai 6 Minggu https://t.co/BwMWzkgxfc https://t.co/HbJe1A79Xz\\nvia @KompasTV']"
      ]
     },
     "execution_count": 13,
     "metadata": {},
     "output_type": "execute_result"
    }
   ],
   "source": [
    "tweets_data = [] \n",
    "tweets_file = open('data_tweet1.txt', \"r\") \n",
    "for line in tweets_file:\n",
    "    try:\n",
    "        tweet = json.loads(line)\n",
    "        if \"extended_tweet\" in tweet:\n",
    "            text = tweet[\"extended_tweet\"][\"full_text\"]\n",
    "        else:\n",
    "            text = tweet[\"text\"]\n",
    "        if \"RT @\" not in text:\n",
    "            tweets_data.append(text) \n",
    "    except:\n",
    "        continue\n",
    "tweets_file.close()\n",
    "\n",
    "tweets_data[0:10]"
   ]
  },
  {
   "cell_type": "code",
   "execution_count": null,
   "metadata": {},
   "outputs": [],
   "source": []
  },
  {
   "cell_type": "markdown",
   "metadata": {},
   "source": [
    "# Preprocessing"
   ]
  },
  {
   "cell_type": "markdown",
   "metadata": {},
   "source": [
    "### 1. tokenization"
   ]
  },
  {
   "cell_type": "code",
   "execution_count": 14,
   "metadata": {},
   "outputs": [
    {
     "name": "stdout",
     "output_type": "stream",
     "text": [
      "[['12', '38', '6', 'ppkm', 'makeadish', '7', 'd', '573', '8', 'o', 'o', 'o', '9', 'official', 'teaser', '10', 'pfizer'], ['plis', 'kek', 'ini', 'lagi', 'ppkm', 'anak', 'bayik', 'udahan', 'dulu', 'kek', 'yg', 'ulang', 'tahun', 'wkwk'], ['untuk', 'saat', 'ini', 'karena', 'masih', 'masa', 'ppkm', 'yang', 'avail', 'yang', 'masker', 'kak', 'aku'], ['pulang', 'kerja', 'jam', '8', 'pas', 'ppkm', 'gini', 'ga', 'enak', 'bgt', 'wkw', 'orang', 'jualan', 'tutup', 'jalan', 'sepi'], [], ['gone', 'girl', '2014', 'myscore', 'not', 'on', 'netflix', 'seneng', 'banget', 'waktu', 'nemu', 'film', 'twist', 'cakep', 'macam', 'ini', 'ini', 'sih', 'wajib', 'km', 'nonton', 'pas', 'ppkm', 'tentang', 'suami', 'yg', 'diduga', 'menghilangkan', 'nyawa', 'istrinya', 'sendiri', 'apa', 'yg', 'sebenarnya', 'terjadi', 'siapa', 'pelakunya', 'dan', 'gmn', 'endingnya', 'nonton', 'ber', '2', 'gih', 'sm', 'doi'], ['libur', 'semester', 'genap', 'tp', 'malah', 'ppkm'], ['plis', 'no'], ['peraturan', 'ppkm', 'taat', 'peraturan', 'pemerintah', 'lewat'], ['terungkap', 'pemerintah', 'ternyata', 'siapkan', 'skenario', 'perpanjangan', 'ppkm', 'darurat', 'sampai', '6', 'minggu', 'via']]\n"
     ]
    }
   ],
   "source": [
    "tweets_data = [unidecode(text).lower() for text in tweets_data]\n",
    "tokenized = [tw_tokenizer().tokenize(text) for text in tweets_data]\n",
    "data = [[word for word in text if word.isalnum()] for text in tokenized]\n",
    "print(data[0:10])"
   ]
  },
  {
   "cell_type": "markdown",
   "metadata": {},
   "source": [
    "### 2. Slang words"
   ]
  },
  {
   "cell_type": "code",
   "execution_count": 15,
   "metadata": {},
   "outputs": [
    {
     "name": "stdout",
     "output_type": "stream",
     "text": [
      "[['12', '38', '6', 'ppkm', 'makeadish', '7', 'di', '573', '8', 'o', 'o', 'o', '9', 'official', 'teaser', '10', 'pfizer'], ['plis', 'kayak', 'ini', 'lagi', 'ppkm', 'anak', 'bayik', 'udahan', 'dulu', 'kayak', 'yang', 'ulang', 'tahun', 'wkwk'], ['untuk', 'saat', 'ini', 'karena', 'masih', 'masa', 'ppkm', 'yang', 'avail', 'yang', 'masker', 'kak', 'aku'], ['pulang', 'kerja', 'jam', '8', 'pas', 'ppkm', 'begini', 'enggak', 'enak', 'banget', 'wkw', 'orang', 'jualan', 'tutup', 'jalan', 'sepi'], [], ['gone', 'girl', '2014', 'myscore', 'not', 'on', 'netflix', 'senang', 'banget', 'waktu', 'nemu', 'film', 'twist', 'cakep', 'macam', 'ini', 'ini', 'sih', 'wajib', 'kamu', 'menonton', 'pas', 'ppkm', 'tentang', 'suami', 'yang', 'diduga', 'menghilangkan', 'nyawa', 'istrinya', 'sendiri', 'apa', 'yang', 'sebenarnya', 'terjadi', 'siapa', 'pelakunya', 'dan', 'bagaimana', 'endingnya', 'menonton', 'ber', '2', 'gih', 'sama', 'doi'], ['libur', 'semester', 'genap', 'tapi', 'malah', 'ppkm'], ['plis', 'no'], ['peraturan', 'ppkm', 'taat', 'peraturan', 'pemerintah', 'lewat'], ['terungkap', 'pemerintah', 'ternyata', 'siapkan', 'skenario', 'perpanjangan', 'ppkm', 'darurat', 'sampai', '6', 'minggu', 'via']]\n"
     ]
    }
   ],
   "source": [
    "# with open('data/slang.txt', \"r\", encoding=\"utf-8\", errors='replace') as f:\n",
    "#     slangwords = f.readlines()\n",
    "\n",
    "# slangwords = [text.strip('\\n').strip().split(':') for word in slangwords]\n",
    "# slangwords = {key.strip(): value.strip() for key, value in slangwords}\n",
    "\n",
    "slangwords = dict() \n",
    "slangwords_dataframe = pd.read_csv('data/colloquial-indonesian-lexicon.csv') \n",
    "for slang, formal in zip(slangwords_dataframe['slang'], slangwords_dataframe['formal']):\n",
    "    slangwords[slang] = formal \n",
    "\n",
    "slangword_file = open('data/slang.txt', \"r\").read() \n",
    "slangwords_text = slangword_file.split('\\n')\n",
    "# print(slangwords_text)\n",
    "for slang in slangwords_text:\n",
    "    split_slang = slang.split(\":\") \n",
    "    slangwords[split_slang[0]] = split_slang[1]\n",
    "# print(slangwords)\n",
    "\n",
    "for i, text in enumerate(data):    \n",
    "    for j, word in enumerate(text):\n",
    "        if word in slangwords.keys():\n",
    "            data[i][j] = slangwords[word]\n",
    "#             print(word, slangwords[word], data[i][j])\n",
    "        \n",
    "print(data[0:10])"
   ]
  },
  {
   "cell_type": "markdown",
   "metadata": {},
   "source": [
    "### 3. stopwords"
   ]
  },
  {
   "cell_type": "code",
   "execution_count": 16,
   "metadata": {},
   "outputs": [
    {
     "name": "stdout",
     "output_type": "stream",
     "text": [
      "[['12', '38', '6', 'makeadish', '7', '573', '8', 'o', 'o', 'o', '9', 'official', 'teaser', '10', 'pfizer'], ['plis', 'bayik', 'udahan', 'ulang'], ['avail', 'masker', 'kak'], ['pulang', 'kerja', 'jam', '8', 'pas', 'enak', 'jualan', 'tutup', 'jalan', 'sepi'], [], ['gone', 'girl', '2014', 'myscore', 'not', 'on', 'netflix', 'senang', 'nemu', 'film', 'twist', 'cakep', 'wajib', 'menonton', 'pas', 'suami', 'diduga', 'menghilangkan', 'nyawa', 'istrinya', 'pelakunya', 'endingnya', 'menonton', 'ber', 'gih', 'doi'], ['libur', 'semester', 'genap'], ['plis', 'no'], ['peraturan', 'taat', 'peraturan', 'pemerintah'], ['terungkap', 'pemerintah', 'siapkan', 'skenario', 'perpanjangan', 'darurat', '6', 'minggu', 'via']]\n"
     ]
    }
   ],
   "source": [
    "factory = StopWordRemoverFactory()\n",
    "\n",
    "Sastrawi_StopWords_id = factory.get_stop_words()\n",
    "\n",
    "with open('data/stopwords_id.txt', \"r\", encoding=\"utf-8\", errors='replace') as f:\n",
    "    stopwords_id = f.readlines()\n",
    "\n",
    "stopwords_id = [word.strip().lower() for word in stopwords_id]\n",
    "\n",
    "# remove_stopword = [word for word in data_filtered if word not in Sastrawi_StopWords_id]\n",
    "# remove_stopword = [word for word in remove_stopword if word not in stopwords_id]\n",
    "remove_stopword = [[word for word in text if word not in Sastrawi_StopWords_id] for text in data]\n",
    "remove_stopword = [[word for word in text if word not in stopwords_id] for text in remove_stopword]\n",
    "\n",
    "print(remove_stopword[0:10])"
   ]
  },
  {
   "cell_type": "code",
   "execution_count": 17,
   "metadata": {},
   "outputs": [
    {
     "data": {
      "text/plain": [
       "['12 38 6 makeadish 7 573 8 o o o 9 official teaser 10 pfizer',\n",
       " 'plis bayik udahan ulang',\n",
       " 'avail masker kak',\n",
       " 'pulang kerja jam 8 pas enak jualan tutup jalan sepi',\n",
       " 'gone girl 2014 myscore not on netflix senang nemu film twist cakep wajib menonton pas suami diduga menghilangkan nyawa istrinya pelakunya endingnya menonton ber gih doi',\n",
       " 'libur semester genap',\n",
       " 'plis no',\n",
       " 'peraturan taat peraturan pemerintah',\n",
       " 'terungkap pemerintah siapkan skenario perpanjangan darurat 6 minggu via',\n",
       " 'sabar jang sabaaaarr']"
      ]
     },
     "execution_count": 17,
     "metadata": {},
     "output_type": "execute_result"
    }
   ],
   "source": [
    "data_filtered = [\" \".join(text) for text in remove_stopword if len(text)>0]\n",
    "data_filtered[0:10]"
   ]
  },
  {
   "cell_type": "markdown",
   "metadata": {},
   "source": [
    "### 4. postags "
   ]
  },
  {
   "cell_type": "code",
   "execution_count": 27,
   "metadata": {},
   "outputs": [
    {
     "name": "stdout",
     "output_type": "stream",
     "text": [
      "['12 38 6 makeadish 7 573 8 o o o 9 official teaser 10 pfizer', 'plis bayik udahan ulang', 'avail masker kak', 'pulang kerja jam 8 pas enak jualan tutup jalan sepi', 'gone girl 2014 myscore not on netflix senang nemu film twist cakep wajib menonton pas suami diduga menghilangkan nyawa istrinya pelakunya endingnya menonton ber gih doi', 'libur semester genap', 'plis no', 'peraturan taat peraturan pemerintah', 'terungkap pemerintah siapkan skenario perpanjangan darurat 6 minggu via', 'sabar jang sabaaaarr']\n"
     ]
    }
   ],
   "source": [
    "data_filtered = [\" \".join(text) for text in remove_stopword if len(text)>0]\n",
    "print(data_filtered[0:10])"
   ]
  },
  {
   "cell_type": "code",
   "execution_count": 28,
   "metadata": {},
   "outputs": [],
   "source": [
    "from spacy.lang.id import Indonesian\n",
    "from nltk.tag import CRFTagger\n",
    "nlp_id = Indonesian()  # Language Model\n",
    "ct = CRFTagger()\n",
    "ct.set_model_file('data/all_indo_man_tag_corpus_model.crf.tagger')\n",
    "\n",
    "def NLPfilter(t, filters):\n",
    "    tokens = nlp_id(t)\n",
    "    tokens = [str(k) for k in tokens if len(k)>2]\n",
    "    hasil = ct.tag_sents([tokens])\n",
    "    return [k[0] for k in hasil[0] if k[1] in filters]"
   ]
  },
  {
   "cell_type": "code",
   "execution_count": 29,
   "metadata": {},
   "outputs": [
    {
     "name": "stdout",
     "output_type": "stream",
     "text": [
      "['12', '38', '6', 'makeadish', '7', '573', '8', 'o', 'o', 'o', '9', 'official', 'teaser', '10', 'pfizer']\n"
     ]
    }
   ],
   "source": [
    "filters = set(['NN', 'NNP', 'NNS', 'NNPS', 'JJ'])\n",
    "\n",
    "for i, text in enumerate(data_filtered):    \n",
    "    data_filtered[i] = NLPfilter(text, filters)\n",
    "\n",
    "data_filtered = [text for text in remove_stopword if len(text)>0]\n",
    "print(data_filtered[0])\n",
    "# for i, d in tqdm(enumerate(data_words)):\n",
    "#     data_words[i] = NLPfilter(d,filters)\n",
    "\n",
    "# ' '.join(data_words[0])"
   ]
  },
  {
   "cell_type": "code",
   "execution_count": 30,
   "metadata": {},
   "outputs": [
    {
     "data": {
      "text/plain": [
       "['12 38 6 makeadish 7 573 8 o o o 9 official teaser 10 pfizer',\n",
       " 'plis bayik udahan ulang',\n",
       " 'avail masker kak',\n",
       " 'pulang kerja jam 8 pas enak jualan tutup jalan sepi',\n",
       " 'gone girl 2014 myscore not on netflix senang nemu film twist cakep wajib menonton pas suami diduga menghilangkan nyawa istrinya pelakunya endingnya menonton ber gih doi',\n",
       " 'libur semester genap',\n",
       " 'plis no',\n",
       " 'peraturan taat peraturan pemerintah',\n",
       " 'terungkap pemerintah siapkan skenario perpanjangan darurat 6 minggu via',\n",
       " 'sabar jang sabaaaarr']"
      ]
     },
     "execution_count": 30,
     "metadata": {},
     "output_type": "execute_result"
    }
   ],
   "source": [
    "corpus = [\" \".join(text) for text in data_filtered if len(text)>0]\n",
    "corpus[0:10]"
   ]
  },
  {
   "cell_type": "markdown",
   "metadata": {},
   "source": [
    "## LDA SKLEARN"
   ]
  },
  {
   "cell_type": "code",
   "execution_count": 38,
   "metadata": {},
   "outputs": [],
   "source": [
    "vectorizer = CountVectorizer()\n",
    "X = vectorizer.fit_transform(corpus)\n"
   ]
  },
  {
   "cell_type": "code",
   "execution_count": 41,
   "metadata": {},
   "outputs": [
    {
     "name": "stdout",
     "output_type": "stream",
     "text": [
      "iteration: 1 of max_iter: 10\n",
      "iteration: 2 of max_iter: 10\n",
      "iteration: 3 of max_iter: 10\n",
      "iteration: 4 of max_iter: 10\n",
      "iteration: 5 of max_iter: 10\n",
      "iteration: 6 of max_iter: 10\n",
      "iteration: 7 of max_iter: 10\n",
      "iteration: 8 of max_iter: 10\n",
      "iteration: 9 of max_iter: 10\n",
      "iteration: 10 of max_iter: 10\n"
     ]
    },
    {
     "data": {
      "text/plain": [
       "LatentDirichletAllocation(batch_size=100, learning_decay=0.5,\n",
       "                          learning_method='online', n_components=2,\n",
       "                          random_state=0, verbose=1)"
      ]
     },
     "execution_count": 41,
     "metadata": {},
     "output_type": "execute_result"
    }
   ],
   "source": [
    "lda = LatentDirichletAllocation(n_components=2,\n",
    "    random_state=0, verbose = 1, learning_method = \"online\", learning_decay=0.5, batch_size=100, max_iter=10)\n",
    "lda.fit(X)\n",
    "\n",
    "# get topics for some given samples:\n",
    "# lda.transform(X[-2:])\n",
    "# print(X)"
   ]
  },
  {
   "cell_type": "code",
   "execution_count": 44,
   "metadata": {},
   "outputs": [
    {
     "data": {
      "text/plain": [
       "array([[0.43736812, 0.56263188],\n",
       "       [0.88611857, 0.11388143],\n",
       "       [0.66720591, 0.33279409],\n",
       "       ...,\n",
       "       [0.6537218 , 0.3462782 ],\n",
       "       [0.05757466, 0.94242534],\n",
       "       [0.41733784, 0.58266216]])"
      ]
     },
     "execution_count": 44,
     "metadata": {},
     "output_type": "execute_result"
    }
   ],
   "source": [
    "vsm_topics = lda.transform(X)\n",
    "vsm_topics"
   ]
  },
  {
   "cell_type": "code",
   "execution_count": 45,
   "metadata": {},
   "outputs": [
    {
     "name": "stderr",
     "output_type": "stream",
     "text": [
      "100%|████████████████████████████████████████████████████████████████████████| 74604/74604 [00:00<00:00, 330308.55it/s]\n"
     ]
    },
    {
     "data": {
      "text/plain": [
       "[2, 1, 1, 1, 1, 2, 1, 2, 2, 1]"
      ]
     },
     "execution_count": 45,
     "metadata": {},
     "output_type": "execute_result"
    }
   ],
   "source": [
    "doc_topic =  [a.argmax()+1 for a in tqdm(vsm_topics)] # topic of docs\n",
    "doc_topic[:10]"
   ]
  },
  {
   "cell_type": "code",
   "execution_count": 46,
   "metadata": {},
   "outputs": [
    {
     "data": {
      "image/png": "[encoded data removed]",
      "text/plain": [
       "<Figure size 432x288 with 1 Axes>"
      ]
     },
     "metadata": {
      "needs_background": "light"
     },
     "output_type": "display_data"
    }
   ],
   "source": [
    "# mari kita plot\n",
    "plot = sns.countplot(doc_topic)"
   ]
  },
  {
   "cell_type": "code",
   "execution_count": 47,
   "metadata": {},
   "outputs": [],
   "source": [
    "def print_Topics(model, feature_names, Top_Topics, n_top_words):\n",
    "    for topic_idx, topic in enumerate(model.components_[:Top_Topics]):\n",
    "        print(\"Topic #%d:\" %(topic_idx+1))\n",
    "        print(\" \".join([feature_names[i]\n",
    "                        for i in topic.argsort()[:-n_top_words - 1:-1]]))"
   ]
  },
  {
   "cell_type": "code",
   "execution_count": 48,
   "metadata": {},
   "outputs": [],
   "source": [
    "X_terms = vectorizer.get_feature_names()"
   ]
  },
  {
   "cell_type": "code",
   "execution_count": 49,
   "metadata": {},
   "outputs": [
    {
     "name": "stdout",
     "output_type": "stream",
     "text": [
      "Printing top 2 Topics, with top 15 Words:\n",
      "Topic #1:\n",
      "pemerintah rakyat negara vaksin bayar taliban pakai kritik gratis warga partai mural bikin jokowi agenda\n",
      "Topic #2:\n",
      "pemerintah vaksinasi covid pandemi masyarakat vaksin level efektif melindungi program papua kesehatan dukung kebijakan agustus\n"
     ]
    }
   ],
   "source": [
    "# Mari kita coba maknai masing-masing topic ini\n",
    "Top_Words = 15\n",
    "n_topics = 2\n",
    "print('Printing top {0} Topics, with top {1} Words:'.format(n_topics, Top_Words))\n",
    "print_Topics(lda, X_terms, n_topics, Top_Words)"
   ]
  },
  {
   "cell_type": "code",
   "execution_count": null,
   "metadata": {},
   "outputs": [],
   "source": []
  },
  {
   "cell_type": "code",
   "execution_count": null,
   "metadata": {},
   "outputs": [],
   "source": []
  },
  {
   "cell_type": "markdown",
   "metadata": {},
   "source": [
    "## Save and Load the Model"
   ]
  },
  {
   "cell_type": "code",
   "execution_count": 32,
   "metadata": {},
   "outputs": [
    {
     "name": "stdout",
     "output_type": "stream",
     "text": [
      "[(0, 0.052643273), (1, 0.9208437), (2, 0.02651302)]\n"
     ]
    }
   ],
   "source": [
    "test_doc = corpus[-1]\n",
    "\n",
    "vector = lda_model[test_doc]\n",
    "print(vector)"
   ]
  },
  {
   "cell_type": "code",
   "execution_count": 14,
   "metadata": {},
   "outputs": [],
   "source": [
    "lda_model.save(\"lda_model/test_model.model\")"
   ]
  },
  {
   "cell_type": "code",
   "execution_count": 15,
   "metadata": {},
   "outputs": [
    {
     "name": "stdout",
     "output_type": "stream",
     "text": [
      "[(0,\n",
      "  '0.109*\"mahasiswa\" + 0.102*\"covid\" + 0.072*\"19\" + 0.046*\"biar\" + '\n",
      "  '0.045*\"indonesia\" + 0.041*\"program\" + 0.035*\"banget\" + 0.025*\"masyarakat\" + '\n",
      "  '0.025*\"generasi\" + 0.025*\"gerakan\"'),\n",
      " (1,\n",
      "  '0.075*\"2\" + 0.065*\"iya\" + 0.043*\"ppkm\" + 0.035*\"darurat\" + 0.035*\"usaha\" + '\n",
      "  '0.034*\"lockdown\" + 0.027*\"dunia\" + 0.027*\"kadin\" + 0.027*\"sih\" + 0.027*\"1\"'),\n",
      " (2,\n",
      "  '0.047*\"sakit\" + 0.047*\"rumah\" + 0.041*\"covid\" + 0.036*\"daerah\" + '\n",
      "  '0.035*\"kesehatan\" + 0.031*\"19\" + 0.025*\"pusat\" + 0.025*\"sri\" + '\n",
      "  '0.025*\"pengendalian\" + 0.025*\"membuka\"')]\n"
     ]
    }
   ],
   "source": [
    "new_model = LdaModel.load(\"lda_model/test_model.model\")\n",
    "pprint(new_model.print_topics())"
   ]
  },
  {
   "cell_type": "code",
   "execution_count": 19,
   "metadata": {},
   "outputs": [
    {
     "ename": "AttributeError",
     "evalue": "'LdaModel' object has no attribute 'get_params'",
     "output_type": "error",
     "traceback": [
      "\u001b[1;31m---------------------------------------------------------------------------\u001b[0m",
      "\u001b[1;31mAttributeError\u001b[0m                            Traceback (most recent call last)",
      "\u001b[1;32m<ipython-input-19-65aab7353451>\u001b[0m in \u001b[0;36m<module>\u001b[1;34m\u001b[0m\n\u001b[0;32m      1\u001b[0m \u001b[1;32mfrom\u001b[0m \u001b[0msklearn\u001b[0m\u001b[1;33m.\u001b[0m\u001b[0mmodel_selection\u001b[0m \u001b[1;32mimport\u001b[0m \u001b[0mGridSearchCV\u001b[0m\u001b[1;33m\u001b[0m\u001b[1;33m\u001b[0m\u001b[0m\n\u001b[0;32m      2\u001b[0m \u001b[1;33m\u001b[0m\u001b[0m\n\u001b[1;32m----> 3\u001b[1;33m \u001b[0mpprint\u001b[0m\u001b[1;33m(\u001b[0m\u001b[0mnew_model\u001b[0m\u001b[1;33m.\u001b[0m\u001b[0mget_params\u001b[0m\u001b[1;33m(\u001b[0m\u001b[1;33m)\u001b[0m\u001b[1;33m)\u001b[0m\u001b[1;33m\u001b[0m\u001b[1;33m\u001b[0m\u001b[0m\n\u001b[0m",
      "\u001b[1;31mAttributeError\u001b[0m: 'LdaModel' object has no attribute 'get_params'"
     ]
    }
   ],
   "source": [
    "from sklearn.model_selection import GridSearchCV\n",
    "\n",
    "pprint(new_model.get_params())"
   ]
  },
  {
   "cell_type": "markdown",
   "metadata": {},
   "source": [
    "## Visualisasi "
   ]
  },
  {
   "cell_type": "code",
   "execution_count": 15,
   "metadata": {},
   "outputs": [
    {
     "data": {
      "text/html": [
       "\n",
       "<link rel=\"stylesheet\" type=\"text/css\" href=\"https://cdn.rawgit.com/bmabey/pyLDAvis/files/ldavis.v1.0.0.css\">\n",
       "\n",
       "\n",
       "<div id=\"ldavis_el62022276126610645867344603\"></div>\n",
       "<script type=\"text/javascript\">\n",
       "\n",
       "var ldavis_el62022276126610645867344603_data = {\"mdsDat\": {\"x\": [0.08230516112910964, 0.1382503581563918, -0.22055551928550146], \"y\": [0.2472316446875958, -0.22031197565803468, -0.026919669029561156], \"topics\": [1, 2, 3], \"cluster\": [1, 1, 1], \"Freq\": [39.41404724121094, 36.60743713378906, 23.978515625]}, \"tinfo\": {\"Term\": [\"jalan\", \"rakyat\", \"orang\", \"harap\", \"putih\", \"bendera\", \"mahupun\", \"tiada\", \"nih\", \"guru\", \"kalo\", \"website\", \"irlandia\", \"ktp\", \"urus\", \"2021\", \"nak\", \"sedar\", \"ujian\", \"khasnya\", \"melayu\", \"cakap\", \"cpns\", \"kali\", \"menekan\", \"covid\", \"pppk\", \"admin\", \"daerah\", \"gue\", \"jalan\", \"rakyat\", \"putih\", \"bendera\", \"tiada\", \"mahupun\", \"gue\", \"allah\", \"mahasiswa\", \"banget\", \"malaysia\", \"buka\", \"kekecewaan\", \"asa\", \"luahan\", \"putus\", \"sedih\", \"tweet\", \"twitter\", \"baca\", \"istilah\", \"rektor\", \"bikin\", \"deh\", \"presiden\", \"hobi\", \"akronim\", \"usaha\", \"biar\", \"jabatan\", \"penuh\", \"2\", \"orang\", \"harap\", \"nih\", \"kalo\", \"website\", \"urus\", \"ktp\", \"irlandia\", \"sedar\", \"melayu\", \"khasnya\", \"cakap\", \"ujian\", \"nak\", \"kampus\", \"darurat\", \"ppkm\", \"protes\", \"lockdown\", \"negara\", \"mengk\", \"pernyataan\", \"belenggu\", \"diskusi\", \"forum\", \"kemahasiswaan\", \"pulsa\", \"subsidi\", \"intelek\", \"keterlambatan\", \"covid\", \"pokok\", \"kali\", \"nya\", \"lembaga\", \"guru\", \"2021\", \"cpns\", \"menekan\", \"pppk\", \"admin\", \"daerah\", \"mengaj\", \"non\", \"merekrut\", \"idi\", \"pusat\", \"litbang\", \"kesehatan\", \"lapangan\", \"zona\", \"merah\", \"mengakibatkan\", \"china\", \"efek\", \"disaat\", \"asosiasi\", \"sri\", \"babi\", \"keuangan\", \"pendaftaran\", \"ketiga\", \"hukum\", \"enggak apa-apa\", \"cina\", \"gubernur\", \"2\", \"19\", \"kali\", \"1\", \"covid\"], \"Freq\": [70.0, 46.0, 36.0, 36.0, 31.0, 31.0, 30.0, 30.0, 24.0, 15.0, 22.0, 21.0, 21.0, 21.0, 21.0, 12.0, 20.0, 18.0, 18.0, 18.0, 18.0, 18.0, 11.0, 26.0, 8.0, 29.0, 8.0, 8.0, 7.0, 13.0, 69.53951263427734, 45.58638000488281, 31.19915008544922, 31.19915008544922, 30.232288360595703, 30.232288360595703, 12.983521461486816, 10.374813079833984, 10.446244239807129, 10.432236671447754, 9.688026428222656, 9.204564094543457, 9.204564094543457, 9.204564094543457, 9.204564094543457, 9.204564094543457, 9.204564094543457, 9.204564094543457, 9.204564094543457, 9.204564094543457, 8.96466064453125, 8.227989196777344, 7.1367082595825195, 6.647504806518555, 6.8040313720703125, 5.9716339111328125, 5.9716339111328125, 5.847202777862549, 5.732351779937744, 4.309531211853027, 9.204569816589355, 13.491141319274902, 36.372459411621094, 35.95121383666992, 24.08998680114746, 21.999467849731445, 20.973386764526367, 20.973386764526367, 20.973386764526367, 20.973386764526367, 18.110614776611328, 18.110614776611328, 18.110614776611328, 18.110612869262695, 18.110614776611328, 19.249116897583008, 10.905131340026855, 8.843034744262695, 8.839944839477539, 7.6473283767700195, 5.962350368499756, 5.126348495483398, 4.560981273651123, 4.560981273651123, 4.560981273651123, 4.560981273651123, 4.560981273651123, 4.560981273651123, 4.560980796813965, 4.560980796813965, 3.9586615562438965, 3.9586615562438965, 22.82619285583496, 3.9586615562438965, 18.710575103759766, 6.482734203338623, 5.163313865661621, 14.545098304748535, 12.388586044311523, 10.720772743225098, 7.788547992706299, 7.671672821044922, 7.671666622161865, 7.38512659072876, 7.182973861694336, 7.182973861694336, 7.182973861694336, 5.71617317199707, 5.877892971038818, 5.026443004608154, 4.514170169830322, 4.336031436920166, 4.049030780792236, 4.049030780792236, 4.049030780792236, 4.049030780792236, 4.049030780792236, 4.049030780792236, 4.049030780792236, 4.049009799957275, 4.048593044281006, 3.8473191261291504, 3.847317695617676, 3.847317695617676, 3.84602952003479, 3.4407997131347656, 2.95475697517395, 4.049026966094971, 9.422157287597656, 4.8191609382629395, 7.671012878417969, 4.6640825271606445, 4.697303295135498], \"Total\": [70.0, 46.0, 36.0, 36.0, 31.0, 31.0, 30.0, 30.0, 24.0, 15.0, 22.0, 21.0, 21.0, 21.0, 21.0, 12.0, 20.0, 18.0, 18.0, 18.0, 18.0, 18.0, 11.0, 26.0, 8.0, 29.0, 8.0, 8.0, 7.0, 13.0, 70.11920928955078, 46.17427444458008, 31.784162521362305, 31.784162521362305, 30.811983108520508, 30.811983108520508, 13.588947296142578, 10.956732749938965, 11.040154457092285, 11.03852367401123, 10.270012855529785, 9.784259796142578, 9.784259796142578, 9.784259796142578, 9.784259796142578, 9.784259796142578, 9.784259796142578, 9.784259796142578, 9.784259796142578, 9.784259796142578, 9.579122543334961, 8.812336921691895, 7.723160743713379, 7.236688613891602, 7.438899993896484, 6.551329135894775, 6.551329135894775, 6.463954925537109, 6.447413444519043, 4.89245080947876, 11.415141105651855, 25.44975471496582, 36.9958381652832, 36.56876754760742, 24.726842880249023, 22.619935989379883, 21.590930938720703, 21.590930938720703, 21.590930938720703, 21.590930938720703, 18.728160858154297, 18.72816276550293, 18.72816276550293, 18.728160858154297, 18.72816276550293, 20.026750564575195, 11.527374267578125, 9.47028923034668, 9.47073745727539, 8.264871597290039, 6.641185760498047, 5.786055088043213, 5.178524017333984, 5.178524017333984, 5.178524017333984, 5.178524017333984, 5.178524017333984, 5.178524017333984, 5.178523540496826, 5.178523540496826, 4.576204299926758, 4.576204299926758, 29.903480529785156, 4.576204299926758, 26.69286346435547, 10.011530876159668, 9.299555778503418, 15.12313461303711, 12.966622352600098, 11.298809051513672, 8.366594314575195, 8.249709129333496, 8.249707221984863, 7.963163375854492, 7.761009216308594, 7.761009216308594, 7.761009216308594, 6.294815540313721, 6.491361618041992, 5.6044793128967285, 5.115082263946533, 4.91406774520874, 4.627069473266602, 4.627069473266602, 4.627071380615234, 4.627071380615234, 4.627071380615234, 4.627071380615234, 4.627071380615234, 4.627066612243652, 4.626628398895264, 4.425354480743408, 4.425353527069092, 4.425353527069092, 4.425185680389404, 4.021380424499512, 3.5327930450439453, 5.229257583618164, 25.44975471496582, 7.885563373565674, 26.69286346435547, 9.807852745056152, 29.903480529785156], \"Category\": [\"Default\", \"Default\", \"Default\", \"Default\", \"Default\", \"Default\", \"Default\", \"Default\", \"Default\", \"Default\", \"Default\", \"Default\", \"Default\", \"Default\", \"Default\", \"Default\", \"Default\", \"Default\", \"Default\", \"Default\", \"Default\", \"Default\", \"Default\", \"Default\", \"Default\", \"Default\", \"Default\", \"Default\", \"Default\", \"Default\", \"Topic1\", \"Topic1\", \"Topic1\", \"Topic1\", \"Topic1\", \"Topic1\", \"Topic1\", \"Topic1\", \"Topic1\", \"Topic1\", \"Topic1\", \"Topic1\", \"Topic1\", \"Topic1\", \"Topic1\", \"Topic1\", \"Topic1\", \"Topic1\", \"Topic1\", \"Topic1\", \"Topic1\", \"Topic1\", \"Topic1\", \"Topic1\", \"Topic1\", \"Topic1\", \"Topic1\", \"Topic1\", \"Topic1\", \"Topic1\", \"Topic1\", \"Topic1\", \"Topic2\", \"Topic2\", \"Topic2\", \"Topic2\", \"Topic2\", \"Topic2\", \"Topic2\", \"Topic2\", \"Topic2\", \"Topic2\", \"Topic2\", \"Topic2\", \"Topic2\", \"Topic2\", \"Topic2\", \"Topic2\", \"Topic2\", \"Topic2\", \"Topic2\", \"Topic2\", \"Topic2\", \"Topic2\", \"Topic2\", \"Topic2\", \"Topic2\", \"Topic2\", \"Topic2\", \"Topic2\", \"Topic2\", \"Topic2\", \"Topic2\", \"Topic2\", \"Topic2\", \"Topic2\", \"Topic2\", \"Topic3\", \"Topic3\", \"Topic3\", \"Topic3\", \"Topic3\", \"Topic3\", \"Topic3\", \"Topic3\", \"Topic3\", \"Topic3\", \"Topic3\", \"Topic3\", \"Topic3\", \"Topic3\", \"Topic3\", \"Topic3\", \"Topic3\", \"Topic3\", \"Topic3\", \"Topic3\", \"Topic3\", \"Topic3\", \"Topic3\", \"Topic3\", \"Topic3\", \"Topic3\", \"Topic3\", \"Topic3\", \"Topic3\", \"Topic3\", \"Topic3\", \"Topic3\", \"Topic3\", \"Topic3\", \"Topic3\", \"Topic3\"], \"logprob\": [30.0, 29.0, 28.0, 27.0, 26.0, 25.0, 24.0, 23.0, 22.0, 21.0, 20.0, 19.0, 18.0, 17.0, 16.0, 15.0, 14.0, 13.0, 12.0, 11.0, 10.0, 9.0, 8.0, 7.0, 6.0, 5.0, 4.0, 3.0, 2.0, 1.0, -2.282900094985962, -2.705199956893921, -3.084399938583374, -3.084399938583374, -3.1159000396728516, -3.1159000396728516, -3.9611001014709473, -4.185400009155273, -4.178599834442139, -4.179900169372559, -4.253900051116943, -4.305099964141846, -4.305099964141846, -4.305099964141846, -4.305099964141846, -4.305099964141846, -4.305099964141846, -4.305099964141846, -4.305099964141846, -4.305099964141846, -4.331500053405762, -4.417300224304199, -4.559599876403809, -4.6305999755859375, -4.6072998046875, -4.737800121307373, -4.737800121307373, -4.758900165557861, -4.77869987487793, -5.064000129699707, -4.305099964141846, -3.922800064086914, -2.857100009918213, -2.868799924850464, -3.269200086593628, -3.3598999977111816, -3.4077000617980957, -3.4077000617980957, -3.4077000617980957, -3.4077000617980957, -3.554500102996826, -3.554500102996826, -3.554500102996826, -3.554500102996826, -3.554500102996826, -3.493499994277954, -4.061699867248535, -4.271299839019775, -4.271699905395508, -4.416600227355957, -4.665500164031982, -4.8165998458862305, -4.9334001541137695, -4.9334001541137695, -4.9334001541137695, -4.9334001541137695, -4.9334001541137695, -4.9334001541137695, -4.9334001541137695, -4.9334001541137695, -5.075099945068359, -5.075099945068359, -3.322999954223633, -5.075099945068359, -3.521899938583374, -4.5817999839782715, -4.8094000816345215, -3.350600004196167, -3.5111000537872314, -3.6556999683380127, -3.9751999378204346, -3.990299940109253, -3.990299940109253, -4.02839994430542, -4.05620002746582, -4.05620002746582, -4.05620002746582, -4.284599781036377, -4.256700038909912, -4.4131999015808105, -4.520599842071533, -4.5609002113342285, -4.62939977645874, -4.62939977645874, -4.62939977645874, -4.62939977645874, -4.62939977645874, -4.62939977645874, -4.62939977645874, -4.62939977645874, -4.629499912261963, -4.680500030517578, -4.680500030517578, -4.680500030517578, -4.680799961090088, -4.792200088500977, -4.944399833679199, -4.62939977645874, -3.7848000526428223, -4.4552998542785645, -3.9904000759124756, -4.48799991607666, -4.480899810791016], \"loglift\": [30.0, 29.0, 28.0, 27.0, 26.0, 25.0, 24.0, 23.0, 22.0, 21.0, 20.0, 19.0, 18.0, 17.0, 16.0, 15.0, 14.0, 13.0, 12.0, 11.0, 10.0, 9.0, 8.0, 7.0, 6.0, 5.0, 4.0, 3.0, 2.0, 1.0, 0.9226999878883362, 0.9182000160217285, 0.9125000238418579, 0.9125000238418579, 0.9121000170707703, 0.9121000170707703, 0.8855000138282776, 0.8765000104904175, 0.8758000135421753, 0.8745999932289124, 0.8726999759674072, 0.8700000047683716, 0.8700000047683716, 0.8700000047683716, 0.8700000047683716, 0.8700000047683716, 0.8700000047683716, 0.8700000047683716, 0.8700000047683716, 0.8700000047683716, 0.864799976348877, 0.8623999953269958, 0.8521000146865845, 0.8460999727249146, 0.8417999744415283, 0.8384000062942505, 0.8384000062942505, 0.8307999968528748, 0.8134999871253967, 0.8041999936103821, 0.7157999873161316, 0.2964000105857849, 0.9879000186920166, 0.9879000186920166, 0.9787999987602234, 0.9771000146865845, 0.9758999943733215, 0.9758999943733215, 0.9758999943733215, 0.9758999943733215, 0.9714000225067139, 0.9714000225067139, 0.9714000225067139, 0.9714000225067139, 0.9714000225067139, 0.9653000235557556, 0.949400007724762, 0.9363999962806702, 0.9359999895095825, 0.927299976348877, 0.8970999717712402, 0.883899986743927, 0.8779000043869019, 0.8779000043869019, 0.8779000043869019, 0.8779000043869019, 0.8779000043869019, 0.8779000043869019, 0.8779000043869019, 0.8779000043869019, 0.8600000143051147, 0.8600000143051147, 0.7348999977111816, 0.8600000143051147, 0.6496000289916992, 0.5702999830245972, 0.4165000021457672, 1.3890000581741333, 1.3824000358581543, 1.375499963760376, 1.3564000129699707, 1.3553999662399292, 1.3553999662399292, 1.3526999950408936, 1.350600004196167, 1.350600004196167, 1.350600004196167, 1.3315999507904053, 1.3286999464035034, 1.319200038909912, 1.3029999732971191, 1.302899956703186, 1.294600009918213, 1.294600009918213, 1.294600009918213, 1.294600009918213, 1.294600009918213, 1.294600009918213, 1.294600009918213, 1.294600009918213, 1.294600009918213, 1.2879999876022339, 1.2879999876022339, 1.2879999876022339, 1.2877000570297241, 1.2720999717712402, 1.2493000030517578, 1.1721999645233154, 0.4343999922275543, 0.9355999827384949, 0.181099995970726, 0.6847000122070312, -0.4230000078678131]}, \"token.table\": {\"Topic\": [1, 3, 2, 3, 1, 2, 3, 3, 3, 1, 1, 1, 3, 3, 1, 1, 2, 1, 1, 1, 1, 2, 3, 3, 1, 2, 3, 3, 3, 2, 1, 3, 2, 3, 3, 2, 2, 3, 1, 3, 2, 1, 3, 3, 2, 2, 1, 1, 1, 2, 3, 2, 2, 1, 2, 3, 2, 3, 3, 2, 2, 3, 1, 2, 3, 2, 1, 1, 1, 1, 2, 3, 3, 3, 2, 3, 3, 2, 2, 2, 3, 1, 2, 3, 2, 3, 1, 2, 2, 2, 2, 3, 1, 2, 2, 3, 1, 1, 1, 1, 2, 1, 3, 2, 1, 1, 1, 2, 2, 1, 2, 3], \"Freq\": [0.509795606136322, 0.509795606136322, 0.3804420530796051, 0.634070098400116, 0.5108104348182678, 0.11787933111190796, 0.3536379933357239, 0.9254530072212219, 0.9697313904762268, 0.9158446788787842, 0.9126808643341064, 0.9198447465896606, 0.8644776940345764, 0.8645604848861694, 0.9198447465896606, 0.9059182405471802, 0.9655261039733887, 0.9753285050392151, 0.9306057691574097, 0.9063646793365479, 0.9198447465896606, 0.9611194729804993, 0.8644776940345764, 0.8491864800453186, 0.06688185036182404, 0.7691412568092346, 0.1672046184539795, 0.9735539555549622, 0.8790476322174072, 0.9503405690193176, 0.9672932624816895, 0.8644776940345764, 0.9655261039733887, 0.8644776940345764, 0.7460125088691711, 0.9655261039733887, 0.19123172760009766, 0.7649269104003906, 0.9566598534584045, 0.9918578863143921, 0.98444664478302, 0.9158446788787842, 0.9039168953895569, 0.9531653523445129, 0.874086856842041, 0.9726306200027466, 0.9395432472229004, 0.8175861239433289, 0.9982998967170715, 0.711800754070282, 0.2997055649757385, 0.972593367099762, 0.9542502760887146, 0.9198447465896606, 0.9655261039733887, 0.977501392364502, 0.874086856842041, 0.9038825631141663, 0.9038823843002319, 0.9611193537712097, 0.9726306200027466, 0.8139895796775818, 0.4301280677318573, 0.5376600623130798, 0.8921435475349426, 0.9034531116485596, 0.9198447465896606, 0.9057844281196594, 0.9736471772193909, 0.9737086296081543, 0.9611193537712097, 0.9561835527420044, 0.9019445776939392, 0.8644776940345764, 0.9655261039733887, 0.8644780516624451, 0.9019445776939392, 0.9487310647964478, 0.8641466498374939, 0.9706051349639893, 0.9019445776939392, 0.09988482296466827, 0.599308967590332, 0.19976964592933655, 0.973082423210144, 0.9038825631141663, 0.7884265184402466, 0.17520588636398315, 0.9655261039733887, 0.874086856842041, 0.9502955675125122, 0.9697311520576477, 0.9409993290901184, 0.9679521322250366, 0.9655261635780334, 0.9243053197860718, 0.9753285050392151, 0.9198447465896606, 0.9962257146835327, 0.9078181982040405, 0.9611194729804993, 0.9198447465896606, 0.864478588104248, 0.9655261635780334, 0.9736471772193909, 0.9198447465896606, 0.9198447465896606, 0.9611193537712097, 0.9726306200027466, 0.9282242655754089, 0.9726306200027466, 0.8644780516624451], \"Term\": [\"1\", \"1\", \"19\", \"19\", \"2\", \"2\", \"2\", \"2021\", \"admin\", \"akronim\", \"allah\", \"asa\", \"asosiasi\", \"babi\", \"baca\", \"banget\", \"belenggu\", \"bendera\", \"biar\", \"bikin\", \"buka\", \"cakap\", \"china\", \"cina\", \"covid\", \"covid\", \"covid\", \"cpns\", \"daerah\", \"darurat\", \"deh\", \"disaat\", \"diskusi\", \"efek\", \"enggak apa-apa\", \"forum\", \"gubernur\", \"gubernur\", \"gue\", \"guru\", \"harap\", \"hobi\", \"hukum\", \"idi\", \"intelek\", \"irlandia\", \"istilah\", \"jabatan\", \"jalan\", \"kali\", \"kali\", \"kalo\", \"kampus\", \"kekecewaan\", \"kemahasiswaan\", \"kesehatan\", \"keterlambatan\", \"ketiga\", \"keuangan\", \"khasnya\", \"ktp\", \"lapangan\", \"lembaga\", \"lembaga\", \"litbang\", \"lockdown\", \"luahan\", \"mahasiswa\", \"mahupun\", \"malaysia\", \"melayu\", \"menekan\", \"mengaj\", \"mengakibatkan\", \"mengk\", \"merah\", \"merekrut\", \"nak\", \"negara\", \"nih\", \"non\", \"nya\", \"nya\", \"nya\", \"orang\", \"pendaftaran\", \"penuh\", \"penuh\", \"pernyataan\", \"pokok\", \"ppkm\", \"pppk\", \"presiden\", \"protes\", \"pulsa\", \"pusat\", \"putih\", \"putus\", \"rakyat\", \"rektor\", \"sedar\", \"sedih\", \"sri\", \"subsidi\", \"tiada\", \"tweet\", \"twitter\", \"ujian\", \"urus\", \"usaha\", \"website\", \"zona\"]}, \"R\": 30, \"lambda.step\": 0.01, \"plot.opts\": {\"xlab\": \"PC1\", \"ylab\": \"PC2\"}, \"topic.order\": [3, 1, 2]};\n",
       "\n",
       "function LDAvis_load_lib(url, callback){\n",
       "  var s = document.createElement('script');\n",
       "  s.src = url;\n",
       "  s.async = true;\n",
       "  s.onreadystatechange = s.onload = callback;\n",
       "  s.onerror = function(){console.warn(\"failed to load library \" + url);};\n",
       "  document.getElementsByTagName(\"head\")[0].appendChild(s);\n",
       "}\n",
       "\n",
       "if(typeof(LDAvis) !== \"undefined\"){\n",
       "   // already loaded: just create the visualization\n",
       "   !function(LDAvis){\n",
       "       new LDAvis(\"#\" + \"ldavis_el62022276126610645867344603\", ldavis_el62022276126610645867344603_data);\n",
       "   }(LDAvis);\n",
       "}else if(typeof define === \"function\" && define.amd){\n",
       "   // require.js is available: use it to load d3/LDAvis\n",
       "   require.config({paths: {d3: \"https://cdnjs.cloudflare.com/ajax/libs/d3/3.5.5/d3.min\"}});\n",
       "   require([\"d3\"], function(d3){\n",
       "      window.d3 = d3;\n",
       "      LDAvis_load_lib(\"https://cdn.rawgit.com/bmabey/pyLDAvis/files/ldavis.v1.0.0.js\", function(){\n",
       "        new LDAvis(\"#\" + \"ldavis_el62022276126610645867344603\", ldavis_el62022276126610645867344603_data);\n",
       "      });\n",
       "    });\n",
       "}else{\n",
       "    // require.js not available: dynamically load d3 & LDAvis\n",
       "    LDAvis_load_lib(\"https://cdnjs.cloudflare.com/ajax/libs/d3/3.5.5/d3.min.js\", function(){\n",
       "         LDAvis_load_lib(\"https://cdn.rawgit.com/bmabey/pyLDAvis/files/ldavis.v1.0.0.js\", function(){\n",
       "                 new LDAvis(\"#\" + \"ldavis_el62022276126610645867344603\", ldavis_el62022276126610645867344603_data);\n",
       "            })\n",
       "         });\n",
       "}\n",
       "</script>"
      ],
      "text/plain": [
       "PreparedData(topic_coordinates=              x         y  topics  cluster       Freq\n",
       "topic                                                \n",
       "2      0.082305  0.247232       1        1  39.414047\n",
       "0      0.138250 -0.220312       2        1  36.607437\n",
       "1     -0.220556 -0.026920       3        1  23.978516, topic_info=       Term       Freq      Total Category  logprob  loglift\n",
       "93    jalan  70.000000  70.000000  Default  30.0000  30.0000\n",
       "99   rakyat  46.000000  46.000000  Default  29.0000  29.0000\n",
       "51    orang  36.000000  36.000000  Default  28.0000  28.0000\n",
       "46    harap  36.000000  36.000000  Default  27.0000  27.0000\n",
       "112   putih  31.000000  31.000000  Default  26.0000  26.0000\n",
       "..      ...        ...        ...      ...      ...      ...\n",
       "17        2   9.422157  25.449755   Topic3  -3.7848   0.4344\n",
       "54       19   4.819161   7.885563   Topic3  -4.4553   0.9356\n",
       "47     kali   7.671013  26.692863   Topic3  -3.9904   0.1811\n",
       "16        1   4.664083   9.807853   Topic3  -4.4880   0.6847\n",
       "45    covid   4.697303  29.903481   Topic3  -4.4809  -0.4230\n",
       "\n",
       "[133 rows x 6 columns], token_table=      Topic      Freq     Term\n",
       "term                          \n",
       "16        1  0.509796        1\n",
       "16        3  0.509796        1\n",
       "54        2  0.380442       19\n",
       "54        3  0.634070       19\n",
       "17        1  0.510810        2\n",
       "...     ...       ...      ...\n",
       "53        2  0.961119    ujian\n",
       "262       2  0.972631     urus\n",
       "184       1  0.928224    usaha\n",
       "263       2  0.972631  website\n",
       "277       3  0.864478     zona\n",
       "\n",
       "[112 rows x 3 columns], R=30, lambda_step=0.01, plot_opts={'xlab': 'PC1', 'ylab': 'PC2'}, topic_order=[3, 1, 2])"
      ]
     },
     "execution_count": 15,
     "metadata": {},
     "output_type": "execute_result"
    }
   ],
   "source": [
    "pyLDAvis.enable_notebook()\n",
    "vis = pyLDAvis.gensim.prepare(lda_model, corpus, id2words, mds=\"mmds\", R=30)\n",
    "vis"
   ]
  },
  {
   "cell_type": "code",
   "execution_count": null,
   "metadata": {},
   "outputs": [],
   "source": []
  }
 ],
 "metadata": {
  "kernelspec": {
   "display_name": "Python 3 (ipykernel)",
   "language": "python",
   "name": "python3"
  },
  "language_info": {
   "codemirror_mode": {
    "name": "ipython",
    "version": 3
   },
   "file_extension": ".py",
   "mimetype": "text/x-python",
   "name": "python",
   "nbconvert_exporter": "python",
   "pygments_lexer": "ipython3",
   "version": "3.11.7"
  }
 },
 "nbformat": 4,
 "nbformat_minor": 4
}
